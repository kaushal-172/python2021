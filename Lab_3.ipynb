{
  "nbformat": 4,
  "nbformat_minor": 0,
  "metadata": {
    "colab": {
      "name": "Lab_3.ipynb",
      "provenance": [],
      "authorship_tag": "ABX9TyNdX1wMOkH/9DqrwAPph9al",
      "include_colab_link": true
    },
    "kernelspec": {
      "name": "python3",
      "display_name": "Python 3"
    },
    "language_info": {
      "name": "python"
    }
  },
  "cells": [
    {
      "cell_type": "markdown",
      "metadata": {
        "id": "view-in-github",
        "colab_type": "text"
      },
      "source": [
        "<a href=\"https://colab.research.google.com/github/kaushal-172/python2021/blob/main/Lab_3.ipynb\" target=\"_parent\"><img src=\"https://colab.research.google.com/assets/colab-badge.svg\" alt=\"Open In Colab\"/></a>"
      ]
    },
    {
      "cell_type": "markdown",
      "metadata": {
        "id": "BRI8uEkuiybh"
      },
      "source": [
        "Create a List with tuples inside it (series). Calculate the sum of elements in tuple and store the sum in second list."
      ]
    },
    {
      "cell_type": "code",
      "metadata": {
        "colab": {
          "base_uri": "https://localhost:8080/"
        },
        "id": "yFcbllm9isc4",
        "outputId": "5f6c67f7-ecec-42a4-cdcb-9e003608a4e1"
      },
      "source": [
        "l1=[(10,20),(5,6),(11,27)]\n",
        "print(list1)\n",
        "result=[]\n",
        "for i in l1:\n",
        "  s=0\n",
        "  for j in i:\n",
        "    s+=j\n",
        "  result.append(s)\n",
        "  print(s,end=\" \")\n",
        "print()\n",
        "print(result)"
      ],
      "execution_count": 13,
      "outputs": [
        {
          "output_type": "stream",
          "text": [
            "[(10, 20), (5, 6), (11, 27)]\n",
            "30 11 38 \n",
            "[30, 11, 38]\n"
          ],
          "name": "stdout"
        }
      ]
    },
    {
      "cell_type": "markdown",
      "metadata": {
        "id": "9g0nlC7Qknqt"
      },
      "source": [
        "WAP to create a list and input numbers into it. Then remove the repeated elements from it and display it back."
      ]
    },
    {
      "cell_type": "code",
      "metadata": {
        "colab": {
          "base_uri": "https://localhost:8080/"
        },
        "id": "1A5EkuVBkVVr",
        "outputId": "aeb4f41a-61b5-4d19-855d-f6809bd08563"
      },
      "source": [
        "def removeduplicateele(A):\n",
        "   newlist = []\n",
        "   for n in A:\n",
        "      if n not in newlist:\n",
        "         newlist.append(n)\n",
        "   return newlist\n",
        "A=list()\n",
        "n=int(input(\"Enter the size of the List ::\"))\n",
        "print(\"Enter the number ::\")\n",
        "for i in range(0,n):\n",
        "   k=int(input(\"\"))\n",
        "   A.append(int(k))\n",
        "print(\"THE NEW LIST IS ::\",removeduplicateele(A))"
      ],
      "execution_count": 17,
      "outputs": [
        {
          "output_type": "stream",
          "text": [
            "Enter the size of the List ::5\n",
            "Enter the number ::\n",
            "2\n",
            "3\n",
            "2\n",
            "5\n",
            "2\n",
            "THE NEW LIST IS :: [2, 3, 5]\n"
          ],
          "name": "stdout"
        }
      ]
    }
  ]
}