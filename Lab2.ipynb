{
  "nbformat": 4,
  "nbformat_minor": 0,
  "metadata": {
    "colab": {
      "name": "Untitled0.ipynb",
      "provenance": [],
      "authorship_tag": "ABX9TyNSXc/M8DTr+6Y+EWBqPBXK",
      "include_colab_link": true
    },
    "kernelspec": {
      "name": "python3",
      "display_name": "Python 3"
    }
  },
  "cells": [
    {
      "cell_type": "markdown",
      "metadata": {
        "id": "view-in-github",
        "colab_type": "text"
      },
      "source": [
        "<a href=\"https://colab.research.google.com/github/kaushal-172/python2021/blob/main/Lab2.ipynb\" target=\"_parent\"><img src=\"https://colab.research.google.com/assets/colab-badge.svg\" alt=\"Open In Colab\"/></a>"
      ]
    },
    {
      "cell_type": "markdown",
      "metadata": {
        "id": "1RXsv7cvdwPS"
      },
      "source": [
        "1.WAP to find simple interest and compound interest."
      ]
    },
    {
      "cell_type": "code",
      "metadata": {
        "id": "XL4tFjjrduZC"
      },
      "source": [
        "p=int(input(\"Enter the Principal Amount\"))\r\n",
        "r=int(input(\"Enter the rate of interest\"))\r\n",
        "t=int(input(\"Enter the Time\"))\r\n",
        "si=(p*r*t)/100\r\n",
        "A = p * (pow((1 + r / 100), t))\r\n",
        "ci=A-p\r\n",
        "print(\"Simple Interest is \",si)\r\n",
        "print(\"Compound Interest is \",ci)"
      ],
      "execution_count": null,
      "outputs": []
    },
    {
      "cell_type": "markdown",
      "metadata": {
        "id": "02BIUruTmfas"
      },
      "source": [
        "2.WAP to input first name,middle name and last name into three variables and then apply concatenation."
      ]
    },
    {
      "cell_type": "code",
      "metadata": {
        "id": "IvOcvkSRfLfz"
      },
      "source": [
        "f=input(\"Enter the first name\\t\")\r\n",
        "m=input(\"Enter the middle name\\t\")\r\n",
        "l=input(\"Enter the last name\\t\")\r\n",
        "print(\"Hello!!!\",f,m,l)"
      ],
      "execution_count": null,
      "outputs": []
    },
    {
      "cell_type": "markdown",
      "metadata": {
        "id": "1AZAh2MPmgac"
      },
      "source": [
        "3.WAP to create a list with multiple dimensions and display the elements of it."
      ]
    },
    {
      "cell_type": "code",
      "metadata": {
        "id": "JGAqqDy8linj",
        "colab": {
          "base_uri": "https://localhost:8080/"
        },
        "outputId": "84d7b4f5-4b80-4d5c-bd4b-3740e89331a1"
      },
      "source": [
        "a = [[2, 4, 6, 8, 10], [3, 6, 9, 12, 15], [4, 8, 12, 16, 20]] \r\n",
        "print(a)"
      ],
      "execution_count": 11,
      "outputs": [
        {
          "output_type": "stream",
          "text": [
            "[[2, 4, 6, 8, 10], [3, 6, 9, 12, 15], [4, 8, 12, 16, 20]]\n"
          ],
          "name": "stdout"
        }
      ]
    },
    {
      "cell_type": "markdown",
      "metadata": {
        "id": "d9ev7aFOoMwV"
      },
      "source": [
        "4.WAP to implement type conversion on different data types."
      ]
    },
    {
      "cell_type": "code",
      "metadata": {
        "colab": {
          "base_uri": "https://localhost:8080/"
        },
        "id": "U1OIvsHQmSJn",
        "outputId": "9e495748-b6dc-4560-c849-23dd7a97d5ba"
      },
      "source": [
        "num_int=int(input(\"Enter an ineteger Value\"))\r\n",
        "num_flo=float(input(\"Enter a Float Value\"))\r\n",
        "\r\n",
        "num_new = num_int + num_flo\r\n",
        "\r\n",
        "print(\"datatype of num_int:\",type(num_int))\r\n",
        "print(\"datatype of num_flo:\",type(num_flo))\r\n",
        "\r\n",
        "print(\"Value of num_new:\",num_new)\r\n",
        "print(\"datatype of num_new:\",type(num_new))\r\n"
      ],
      "execution_count": 12,
      "outputs": [
        {
          "output_type": "stream",
          "text": [
            "Enter an ineteger Value100\n",
            "Enter a Float Value0.0041\n",
            "datatype of num_int: <class 'int'>\n",
            "datatype of num_flo: <class 'float'>\n",
            "Value of num_new: 100.0041\n",
            "datatype of num_new: <class 'float'>\n"
          ],
          "name": "stdout"
        }
      ]
    },
    {
      "cell_type": "markdown",
      "metadata": {
        "id": "j3YdbJKMqmTW"
      },
      "source": [
        "5. Find the distance between 2 points using Pythagorian Theorem,where the coordinates of two points are given."
      ]
    },
    {
      "cell_type": "code",
      "metadata": {
        "id": "aNUC3O-0qYos"
      },
      "source": [
        "from math import sqrt\r\n",
        "x1=int(input(\"Enter x1:\"))\r\n",
        "y1=int(input(\"Enter y1:\"))\r\n",
        "x2=int(input(\"Enter x2:\"))\r\n",
        "y2=int(input(\"Enter y2:\"))\r\n",
        "x=x1-x2\r\n",
        "y=y1-y2\r\n",
        "d=sqrt(x**2+y**2)\r\n",
        "print(\"d is\",d)"
      ],
      "execution_count": null,
      "outputs": []
    }
  ]
}